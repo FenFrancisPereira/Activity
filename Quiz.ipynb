{
 "cells": [
  {
   "cell_type": "markdown",
   "id": "ed567d36",
   "metadata": {},
   "source": [
    "# quiz on animals\n"
   ]
  },
  {
   "cell_type": "code",
   "execution_count": 1,
   "id": "af77f50a",
   "metadata": {},
   "outputs": [
    {
     "name": "stdout",
     "output_type": "stream",
     "text": [
      "Guess the animals !\n",
      "Which animal lives at the north pole? polar bear\n",
      "Your answer is correct\n",
      "which is the fastest land animal?lion\n",
      "try again\n",
      "which is the fastest land animal?camel\n",
      "try again\n",
      "which is the fastest land animal?tiger\n",
      "Sorry the correct answer is cheetah\n",
      "Which is the largest animal?blue whale\n",
      "Your answer is correct\n",
      "your final score is: 2\n"
     ]
    }
   ],
   "source": [
    "score=0\n",
    "print ('Guess the animals !')\n",
    "for i in range (0,3):\n",
    "    q1=input('Which animal lives at the north pole? ')\n",
    "    if q1=='POLAR BEAR' or q1=='polar bear':\n",
    "        print('Your answer is correct')\n",
    "        score+=1\n",
    "        break\n",
    "    elif i<2:\n",
    "         print ('try again')\n",
    "    else:\n",
    "        print('Sorry the correct answer is Polar bear')\n",
    "       \n",
    "for i in range (0,3):\n",
    "    q2=input('which is the fastest land animal?')\n",
    "    if q2=='CHEETAH' or q2=='cheetah' :\n",
    "        print('Your answer is correct')\n",
    "        score+=1\n",
    "        break\n",
    "    elif i<2:\n",
    "         print ('try again')\n",
    "    else:\n",
    "        print('Sorry the correct answer is cheetah')\n",
    "for i in range (0,3):\n",
    "    q3=input('Which is the largest animal?')\n",
    "    if q3=='Blue Whale' or q3=='BLUE WHALE' or q3=='blue whale':\n",
    "        print('Your answer is correct')\n",
    "        score+=1\n",
    "        break\n",
    "    elif i<2:\n",
    "         print ('try again')\n",
    "    else:\n",
    "        print('Sorry the correct answer is Blue whale')\n",
    "print ('your final score is:',score)        \n"
   ]
  },
  {
   "cell_type": "code",
   "execution_count": null,
   "id": "a04e086b",
   "metadata": {},
   "outputs": [],
   "source": []
  }
 ],
 "metadata": {
  "kernelspec": {
   "display_name": "Python 3 (ipykernel)",
   "language": "python",
   "name": "python3"
  },
  "language_info": {
   "codemirror_mode": {
    "name": "ipython",
    "version": 3
   },
   "file_extension": ".py",
   "mimetype": "text/x-python",
   "name": "python",
   "nbconvert_exporter": "python",
   "pygments_lexer": "ipython3",
   "version": "3.8.8"
  }
 },
 "nbformat": 4,
 "nbformat_minor": 5
}
