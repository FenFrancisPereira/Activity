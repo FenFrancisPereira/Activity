{
 "cells": [
  {
   "cell_type": "code",
   "execution_count": 5,
   "id": "c4d17d4a",
   "metadata": {},
   "outputs": [
    {
     "name": "stdout",
     "output_type": "stream",
     "text": [
      "password picker\n",
      "password= smillingcat59*\n"
     ]
    }
   ],
   "source": [
    "import random\n",
    "adjective=['sleeping','running','walking','eating','smilling','yawning','staring']\n",
    "nouns=['dog','cow','elephant','cat','lion','tiger']\n",
    "number= list (range(0,101))\n",
    "punctuation=['!','@','#','$','%','^','&','*','()','{}','[]']\n",
    "\n",
    "adj=random.choice(adjective)\n",
    "noun=random.choice(nouns)\n",
    "num=random.choice(number)\n",
    "punct=random.choice(punctuation)\n",
    "password=str(adj)+str(noun)+str(num)+str(punct)\n",
    "print('password picker')\n",
    "print('password=',password)"
   ]
  },
  {
   "cell_type": "code",
   "execution_count": null,
   "id": "c2e10c91",
   "metadata": {},
   "outputs": [],
   "source": []
  }
 ],
 "metadata": {
  "kernelspec": {
   "display_name": "Python 3 (ipykernel)",
   "language": "python",
   "name": "python3"
  },
  "language_info": {
   "codemirror_mode": {
    "name": "ipython",
    "version": 3
   },
   "file_extension": ".py",
   "mimetype": "text/x-python",
   "name": "python",
   "nbconvert_exporter": "python",
   "pygments_lexer": "ipython3",
   "version": "3.8.8"
  }
 },
 "nbformat": 4,
 "nbformat_minor": 5
}
